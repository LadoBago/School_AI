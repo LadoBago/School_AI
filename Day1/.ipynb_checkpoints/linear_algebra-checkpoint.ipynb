{
 "cells": [
  {
   "cell_type": "code",
   "execution_count": null,
   "metadata": {},
   "outputs": [],
   "source": [
    "import numpy as np\n",
    "import math\n",
    "\n",
    "BA = [[0, 0], [0, 1], [1, 0], [1, 1]]\n",
    "\n",
    "sig = np.vectorize(lambda x: 1 / (1 + math.exp(-x)))\n",
    "\n",
    "def ff_base(_X, _W, _b):\n",
    "    return np.around(sig((_W.T @ _X) + _b), decimals = 1)\n",
    "\n",
    "def ff_not(_X):\n",
    "    W1 = np.array([-200])\n",
    "    b1 = np.array([100])\n",
    "    return ff_base(_X, W1, b1)\n",
    "\n",
    "def ff_and(_X):\n",
    "    W1 = np.array([200, 200])\n",
    "    b1 = np.array([-300])\n",
    "    return ff_base(_X, W1, b1)\n",
    "\n",
    "def ff_or(_X):\n",
    "    W1 = np.array([200, 200])\n",
    "    b1 = np.array([-100])\n",
    "    return ff_base(_X, W1, b1)\n",
    "\n",
    "def ff_xor(_X):\n",
    "#    print (_X[0], _X[1], ff_not(_X[:-1]), ff_not(_X[1:]))\n",
    "    return ff_or([ff_and([ff_not(_X[:-1]), _X[1:]]), ff_and([_X[:-1], ff_not(_X[1:])])])\n",
    "\n",
    "#print(ff_xor(np.array([0, 0])))\n",
    "\n",
    "for ba in BA:\n",
    "    print (ba[0], ba[1], ff_xor(ba))"
   ]
  }
 ],
 "metadata": {
  "kernelspec": {
   "display_name": "Python 3",
   "language": "python",
   "name": "python3"
  },
  "language_info": {
   "codemirror_mode": {
    "name": "ipython",
    "version": 3
   },
   "file_extension": ".py",
   "mimetype": "text/x-python",
   "name": "python",
   "nbconvert_exporter": "python",
   "pygments_lexer": "ipython3",
   "version": "3.7.4"
  }
 },
 "nbformat": 4,
 "nbformat_minor": 2
}
