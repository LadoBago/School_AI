{
 "cells": [
  {
   "cell_type": "code",
   "execution_count": null,
   "metadata": {},
   "outputs": [],
   "source": [
    "%load_ext autoreload\n",
    "%autoreload 2\n",
    "\n",
    "%matplotlib inline"
   ]
  },
  {
   "cell_type": "markdown",
   "metadata": {},
   "source": [
    "## Basic setup"
   ]
  },
  {
   "cell_type": "markdown",
   "metadata": {},
   "source": [
    "Create anaconda environment\n",
    "<br>\n",
    "```bash\n",
    "conda create -n ml python=3.7.4 jupyter\n",
    "```\n",
    "Install fastai library\n",
    "<br>\n",
    "```bash\n",
    "conda install -c pytorch -c fastai fastai\n",
    "```"
   ]
  },
  {
   "cell_type": "markdown",
   "metadata": {},
   "source": [
    "# Set theory basics"
   ]
  },
  {
   "cell_type": "markdown",
   "metadata": {},
   "source": [
    "#### Prove that:\n",
    "<br>\n",
    "$A \\subseteq A$"
   ]
  },
  {
   "cell_type": "markdown",
   "metadata": {},
   "source": [
    "##### -Answer-\n",
    "According to the rule, if A is subset of B, it means, that all elements of Set A belongs also to Set B.\n",
    "Therefore, because all elements of Set A belong to Set A, i.e. A is subset of A. <br/>\n",
    "Suppose, Set A is not subset of Set A. It means, there exists minimum one element in Set A, which does not belong to the A.\n",
    "It is not valid presumption. I.e. A is subset of A."
   ]
  },
  {
   "cell_type": "markdown",
   "metadata": {},
   "source": [
    "#### Prove that:\n",
    "<br>\n",
    "If $A \\subseteq B$ and $B \\subseteq A$ $\\to$ $A = B$"
   ]
  },
  {
   "cell_type": "markdown",
   "metadata": {},
   "source": [
    "##### -Answer-\n",
    "Suppose, $A \\neq B$; According to first part of conditions ($A \\subseteq B$), we can denote $B = A \\cup C$, where $C$ is some arbitrary Set $A \\cap C = \\emptyset$.<br/>\n",
    "Now rewrite the conditions: $A \\subseteq (A \\cup C)$ and $(A \\cup C) \\subseteq A$.<br/>\n",
    "$(A \\cup C) \\subseteq A$ is possible, if and only if $C = \\emptyset$ <br>\n",
    "I.e. $B = A \\cup \\emptyset$<br/>\n",
    "I.e. $B = A$"
   ]
  },
  {
   "cell_type": "markdown",
   "metadata": {},
   "source": [
    "#### Prove that:\n",
    "<br>\n",
    "if $B \\subset A$ then $A \\cap B = B$"
   ]
  },
  {
   "cell_type": "markdown",
   "metadata": {},
   "source": [
    "##### -Answer-\n",
    "According, that $B \\subset A$, we can denote $A = B \\cup C$, where $C$ is some arbitrary Set and $C \\cap B = \\emptyset$. <br/>\n",
    "$A \\cap B =(B \\cup C) \\cap B = (B \\cap B) \\cup (C \\cap B) = B \\cup \\emptyset = B$."
   ]
  },
  {
   "cell_type": "markdown",
   "metadata": {},
   "source": [
    "#### Prove that:\n",
    "<br>\n",
    "$A \\cap B = B \\cap A$"
   ]
  },
  {
   "cell_type": "markdown",
   "metadata": {},
   "source": [
    "##### -Answer-\n",
    "$A \\cap B = \\{x | x \\in A \\land x \\in B\\}$ and $B \\cap A = \\{x | x \\in B \\land x \\in A\\}$.<br/>\n",
    "According, that logical \"and\" is commutative, they are equal Sets."
   ]
  },
  {
   "cell_type": "markdown",
   "metadata": {},
   "source": [
    "#### Prove that:\n",
    "<br>\n",
    "if $B \\subset A$ then $A \\cup B = A$"
   ]
  },
  {
   "cell_type": "markdown",
   "metadata": {},
   "source": [
    "##### -Answer-\n",
    "According, that $B \\subset A$, we can denote $A = B \\cup C$, where $C$ is some arbitrary Set and $C \\cap B = \\emptyset$. <br/>\n",
    "Now rewrite the union: $A \\cup B = (B \\cup C) \\cup B = B \\cup B \\cup C = B \\cup C$. We know that, $B \\cup C = A$"
   ]
  },
  {
   "cell_type": "markdown",
   "metadata": {},
   "source": [
    "#### Prove that:\n",
    "<br>\n",
    "$A \\cup B = B \\cup A$"
   ]
  },
  {
   "cell_type": "markdown",
   "metadata": {},
   "source": [
    "##### -Answer-\n",
    "$A \\cup B = \\{x|x \\in A \\lor x \\in B\\}$ <br/>\n",
    "$B \\cup A = \\{x|x \\in B \\lor x \\in A\\}$ <br/>\n",
    "It means, they ar equal Sets (logical \"or\" is commutative)."
   ]
  },
  {
   "cell_type": "markdown",
   "metadata": {},
   "source": [
    "#### Prove that:\n",
    "- for every injection $m:A \\to B$ and pair of functions $f, g :C \\to A$: if $m \\circ f = m \\circ g$ then $f = g$ and vice-versa\n",
    "- for every surjection $e:A \\to B$ and every pair of functions $f, g :B \\to C$: if $f \\circ e = g \\circ e$ then $f = g$ and vice-versa"
   ]
  },
  {
   "cell_type": "markdown",
   "metadata": {},
   "source": [
    "##### -Answer-\n",
    "- rewrite the equition of compositions: $m(f(C)) = m(g(C))$. We know, that m, f, g are injections. It means, $m(f(C)) = m(g(C)) \\iff f(C) = g(C) \\iff f = g$\n"
   ]
  },
  {
   "cell_type": "markdown",
   "metadata": {},
   "source": [
    "#### Prove that \n",
    "- composition of injections is injection itself\n",
    "- composition of surjections is surjection itself\n",
    "- composition of bijections is bijection itself\n",
    "<br>\n",
    "or give a counterexamples"
   ]
  },
  {
   "cell_type": "markdown",
   "metadata": {},
   "source": [
    "##### -Answer-\n",
    "- Let $f: A \\to B$ and $g: C \\to A$ are injections. <br/>\n",
    "Now consider composition $f \\circ g : C \\to B$ and denote $m = f \\circ g$, $m(C) = B$ <br/>\n",
    "Because $g$ is injection, for every $a \\in A$, exists maximum one $c \\in C$ where $g(c) = a$ <br/>\n",
    "Because $f$ is injection for every $b \\in B$ exists maximum one $a \\in A$ where $f(a) = b$ <br/>\n",
    "I.e. for every $b \\in B$ there exists maximum one $c \\in C$ where $m(c) = b \\iff m$ is also injection $\\iff f \\circ g$ is injection\n",
    "- Let $f: A \\to B$ and $g: C \\to A$ are surjections. <br/>\n",
    "Now consider composition $f \\circ g : C \\to B$ and denote $m = f \\circ g$, $m(C) = B$ <br/>\n",
    "Because $g$ is surjection $\\iff \\forall a \\in A \\Rightarrow (\\exists c \\in C \\land g(c) = a)$ <br/>\n",
    "Because $f$ is surjection $\\iff \\forall b \\in B \\Rightarrow (\\exists a \\in A \\land f(a) = b)$ <br/>\n",
    "I.e. $\\forall b \\in B \\Rightarrow (\\exists c \\in C \\land m(c) = b) \\iff m$ is surjection $\\iff f \\circ g$ is surjection.\n",
    "- Let $f: A \\to B$ and $g: C \\to A$ are bijections. <br/>\n",
    "Now consider composition $f \\circ g : C \\to B$ and denote $m = f \\circ g$, $m(C) = B$ <br/>\n",
    "Because $g$ is bijection, for every $a \\in A$, exists one and only one $c \\in C$ where $g(c) = a$ <br/>\n",
    "Because $f$ is bijection, for every $b \\in B$, exists one and only one $a \\in A$ where $f(a) = b$ <br/>\n",
    "I.e. for every $b \\in B$ there exists one and only one $c \\in C$ where $m(c) = b \\iff m$ is also bijection $\\iff f \\circ g$ is bijection\n"
   ]
  },
  {
   "cell_type": "markdown",
   "metadata": {},
   "source": [
    "#### Prove that for each set $A$:\n",
    "- $A \\cong A$\n",
    "- if $B \\cong A$ then $B \\cong A$ for every pair of sets $A$ and $B$\n",
    "- if $A \\cong B$ and $B \\cong C$ then $A \\cong C$ for every triplet $A$, $B$ and $C$"
   ]
  },
  {
   "cell_type": "markdown",
   "metadata": {},
   "source": [
    "##### -Answer-\n",
    "- cardinality(A) = cardinality(A). A is equivalent to A.<br/>\n",
    "- if $B \\cong A \\iff (\\exists f(B) = A \\land f$ is bijection) $\\iff (\\exists f^{-1}(A) = B \\land f^{-1}$ is bijection) $\\Rightarrow B \\cong A$\n",
    "- if $A \\cong B$ and $B \\cong C \\iff (\\exists f(A) = B \\land \\exists g(B) = C \\land f, g$ are bijections) $\\iff g \\circ f(A)=C \\land g \\circ f$ is bijection $\\iff A \\cong C$"
   ]
  },
  {
   "cell_type": "markdown",
   "metadata": {},
   "source": [
    "#### Prove that:\n",
    "<br>\n",
    "there exists a bijection between set of natural and even numbers"
   ]
  },
  {
   "cell_type": "markdown",
   "metadata": {},
   "source": [
    "##### -Answer-\n",
    "for example $f(x) = 2x, x \\in N$ then $f(x) \\in$ \\{even numbers\\}.<br/> there exists $f^{-1}(y) = y/2, y \\in$ \\{even numbers\\} and $f^{-1}(y) \\in N$"
   ]
  },
  {
   "cell_type": "markdown",
   "metadata": {},
   "source": [
    "#### Prove that:\n",
    "<br>\n",
    "if we have a bijection between two finite sets than they have an equal number of elements"
   ]
  },
  {
   "cell_type": "markdown",
   "metadata": {},
   "source": [
    "##### -Answer-\n",
    "if $f(A) = B \\land f$ is bijection $\\iff A \\cong B \\iff A$-s cardinality $= B$-s cardinality"
   ]
  },
  {
   "cell_type": "markdown",
   "metadata": {},
   "source": [
    "#### Prove that:\n",
    "<br>\n",
    "$A \\times B \\cong B \\times A$"
   ]
  },
  {
   "cell_type": "markdown",
   "metadata": {},
   "source": [
    "##### -Answer-\n",
    "if cardinality of $A = n$ and cardinality of $B = m \\Rightarrow$ cardinality$(A \\times B) = n \\times m$ $\\land$ cardinality$(B \\times A) = m \\times n$; <br/>\n",
    "they have same cardinality $\\iff$ they are equivalent Sets"
   ]
  },
  {
   "cell_type": "markdown",
   "metadata": {},
   "source": [
    "$\\cap_{i\\in I}A_i$ and $\\cup_{i\\in I}A_i$"
   ]
  },
  {
   "cell_type": "code",
   "execution_count": 62,
   "metadata": {},
   "outputs": [
    {
     "data": {
      "text/plain": [
       "(set(), {-1, 3, 4, 5, 10})"
      ]
     },
     "execution_count": 62,
     "metadata": {},
     "output_type": "execute_result"
    }
   ],
   "source": [
    "# Inplement in python\n",
    "from itertools import combinations, chain\n",
    "\n",
    "A = set([3, 4, 5, -1, 10])\n",
    "\n",
    "pset = chain.from_iterable(set(combinations(A, r)) for r in range(len(A)+1))\n",
    "P_A = set(pset)\n",
    "\n",
    "intersections = A\n",
    "unions = set()\n",
    "\n",
    "for subset in P_A:\n",
    "#    print(subset)\n",
    "    intersections = intersections.intersection(set(subset))\n",
    "    unions = unions.union(set(subset))\n",
    "\n",
    "intersections, unions\n",
    "\n"
   ]
  },
  {
   "cell_type": "markdown",
   "metadata": {},
   "source": [
    "We can also define cartesian product of any \"number\" of sets $\\prod_{i \\in I}{A_i}$"
   ]
  },
  {
   "cell_type": "code",
   "execution_count": 63,
   "metadata": {},
   "outputs": [
    {
     "name": "stdout",
     "output_type": "stream",
     "text": [
      "(0, 0, 3, 4, 0, 0, 3)\n",
      "(0, 0, 3, 4, 0, 0, 4)\n",
      "(0, 0, 3, 4, 0, 3, 3)\n",
      "(0, 0, 3, 4, 0, 3, 4)\n",
      "(0, 0, 3, 4, 4, 0, 3)\n",
      "(0, 0, 3, 4, 4, 0, 4)\n",
      "(0, 0, 3, 4, 4, 3, 3)\n",
      "(0, 0, 3, 4, 4, 3, 4)\n",
      "(0, 3, 3, 4, 0, 0, 3)\n",
      "(0, 3, 3, 4, 0, 0, 4)\n",
      "(0, 3, 3, 4, 0, 3, 3)\n",
      "(0, 3, 3, 4, 0, 3, 4)\n",
      "(0, 3, 3, 4, 4, 0, 3)\n",
      "(0, 3, 3, 4, 4, 0, 4)\n",
      "(0, 3, 3, 4, 4, 3, 3)\n",
      "(0, 3, 3, 4, 4, 3, 4)\n",
      "(0, 4, 3, 4, 0, 0, 3)\n",
      "(0, 4, 3, 4, 0, 0, 4)\n",
      "(0, 4, 3, 4, 0, 3, 3)\n",
      "(0, 4, 3, 4, 0, 3, 4)\n",
      "(0, 4, 3, 4, 4, 0, 3)\n",
      "(0, 4, 3, 4, 4, 0, 4)\n",
      "(0, 4, 3, 4, 4, 3, 3)\n",
      "(0, 4, 3, 4, 4, 3, 4)\n"
     ]
    }
   ],
   "source": [
    "# Inplement in python\n",
    "import itertools\n",
    "\n",
    "A = set([3, 4, 0])\n",
    "\n",
    "pset = chain.from_iterable(set(combinations(A, r)) for r in range(1,len(A) + 1))\n",
    "P_A = set(pset)\n",
    "\n",
    "#print(P_A)\n",
    "\n",
    "for element in itertools.product(*P_A):\n",
    "    print(element)\n"
   ]
  },
  {
   "cell_type": "markdown",
   "metadata": {},
   "source": [
    "#### Prove that:\n",
    "<br/>\n",
    "- $A \\cap (B \\cup C)=(A \\cap B) \\cup (A\\cap C)$<br/>\n",
    "- $A \\cup (B \\cap C)=(A \\cup B) \\cap (A\\cup C)$"
   ]
  },
  {
   "cell_type": "markdown",
   "metadata": {},
   "source": [
    "##### -Answer-\n",
    "- Suppose $x \\in A \\cap (B \\cup C)$, let show, that also $x \\in (A \\cap B) \\cup (A \\cap C)$. <br/>\n",
    "$x \\in A \\cap (B \\cup C)$ means, that $x \\in A$ and $x \\in (B \\cup C)$. $x \\in (B \\cup C) \\Rightarrow x \\in B \\lor x \\in C$. <br/>\n",
    "I.e. $x \\in A \\land (x \\in B \\lor x \\in C) \\Rightarrow (x \\in A \\land x \\in B) \\lor (x \\in A \\land x \\in B) \\Rightarrow x \\in (A \\cap B) \\lor x \\in (A \\cap C) \\Rightarrow x \\in (A \\cap B) \\cup (A \\cap C)$. <br/>\n",
    "I.e. $A \\cap (B \\cup C) \\subset (A \\cap B) \\cup (A \\cap C)$. Call it (1) <br/>\n",
    "Now Suppose $x \\in (A \\cap B) \\cup (A \\cap C)$, let show, that also $x \\in A \\cap (B \\cup C)$. <br/>\n",
    "$x \\in (A \\cap B) \\cup (A \\cap C)$ means, that $(x \\in A \\land x \\in B) \\lor (x \\in A \\land x \\in B) \\Rightarrow x \\in A \\land (x \\in B \\lor x \\in C) \\Rightarrow x \\in A \\land x \\in (B \\cup C) \\Rightarrow x \\in A \\cap (B \\cup C)$. <br/>\n",
    "$(A \\cap B) \\cup (A \\cap C) \\subset A \\cap (B \\cup C)$. Call it (2) <br/>\n",
    "$(1) \\land (2)\\iff A \\cap (B \\cup C) = (A \\cap B) \\cup (A \\cap C)$\n",
    "<br/>\n",
    "<br/>\n",
    "- First show, that $A \\cup (B \\cap C) \\subset (A \\cup B) \\cap (A \\cup C)$ <br/>\n",
    "Suppose, $x \\in A \\cup (B \\cap C)$, then $x \\in A \\lor x \\in (B \\cap C)$.<br/>\n",
    "if $x \\in A \\Rightarrow x \\in (A \\cup B) \\land x \\in (A \\cup C) \\Rightarrow x \\in (A \\cup B) \\cap (A \\cup C)$. <br/>\n",
    "if $x \\in (B \\cap C) \\Rightarrow x \\in B \\subset (A \\cup B) \\land x \\in C \\subset (A \\cup C) \\Rightarrow x \\in (A \\cup B) \\cap (A \\cup C)$. <br/>\n",
    "I.e. $A \\cup (B \\cap C) \\subset (A \\cup B) \\cap (A \\cup C)$. Call it (1) <br/>\n",
    "Now show, that $(A \\cup B) \\cap (A \\cup C) \\subset A \\cup (B \\cap C)$ <br/>\n",
    "Suppose, $x \\in (A \\cup B) \\cap (A \\cup C) \\Rightarrow x \\in (A \\cup B) \\land x \\in (A \\cup C)$. We have two choices: $x \\in A \\lor x \\notin A$. <br/>\n",
    "if $x \\in A \\Rightarrow x \\in A \\cup (B \\cap C)$ <br/>\n",
    "if $x \\notin A \\land x \\in (A \\cup B) \\land x \\in (A \\cup C) \\Rightarrow x \\in B \\land x \\in C \\Rightarrow x \\in (B \\cap C) \\Rightarrow x \\in A \\cup (B \\cap C)$. <br/>\n",
    "I.e. $(A \\cup B) \\cap (A \\cup C) \\subset A \\cup (B \\cap C)$. call it (2) <br/>\n",
    "$(1) \\land (2) \\iff A \\cup (B \\cap C) = (A \\cup B) \\cap (A \\cup C)$\n"
   ]
  },
  {
   "cell_type": "markdown",
   "metadata": {},
   "source": [
    "# Linear Algebra"
   ]
  },
  {
   "cell_type": "markdown",
   "metadata": {},
   "source": [
    "#### Prove that:\n",
    "<br>\n",
    "$(AB)^{T} = B^{T}A^{T}$ for each pair of matrices $A \\in \\mathbb{R}^{m \\times n}, B \\in \\mathbb{R}^{n \\times m}$"
   ]
  },
  {
   "cell_type": "markdown",
   "metadata": {},
   "source": [
    "##### -Answer-\n",
    "Let\n",
    "- $AB = C \\in \\mathbb{R}^{m \\times m}$ <br/>\n",
    "- $B^TA^T = D \\in \\mathbb{R}^{m \\times m}$, because $B^T \\in \\mathbb{R}^{m \\times n} and A^T \\in \\mathbb{R}^{n \\times m}$<br/>\n",
    "\n",
    "First consider $C$ matrix. $C_{i,j} = i$-th row of $A$ matrix scalar product to $j$-th column of $B$ matrix = $a_{i,1}b_{1,j}+a_{i,2}b_{2,j}+ \\dots +a_{i,m}b_{m,j}$<br/>\n",
    "Now consider $D$ matrix. $D_{j,i} = j$-th row of $B^T$ matrix scalar product to $i$-th column of $A^T$ matrix = $a_{i,1}b_{1,j}+a_{i,2}b_{2,j}+ \\dots +a_{i,m}b_{m,j}$<br/>\n",
    "I.e $C_{i,j} = D_{j,i} \\Rightarrow C^T = D \\Rightarrow (AB)^T = B^TA^T$"
   ]
  },
  {
   "cell_type": "markdown",
   "metadata": {},
   "source": [
    "## Functions on tensors"
   ]
  },
  {
   "cell_type": "markdown",
   "metadata": {},
   "source": [
    "#### Write combination for $XOR$ calculation"
   ]
  },
  {
   "cell_type": "code",
   "execution_count": 1,
   "metadata": {},
   "outputs": [],
   "source": [
    "import numpy as np\n",
    "import math\n",
    "\n",
    "sig = np.vectorize(lambda x: 1 / (1 + math.exp(-x)))\n",
    "\n",
    "def ff_base(_X, _W, _b):\n",
    "    return np.around(sig((_W.T @ _X) + _b), decimals = 1)\n",
    "\n",
    "def ff_not(_X):\n",
    "    W1 = np.array([-200])\n",
    "    b1 = np.array([100])\n",
    "    return ff_base(_X, W1, b1)\n",
    "\n",
    "def ff_and(_X):\n",
    "    W1 = np.array([200, 200])\n",
    "    b1 = np.array([-300])\n",
    "    return ff_base(_X, W1, b1)\n",
    "\n",
    "def ff_or(_X):\n",
    "    W1 = np.array([200, 200])\n",
    "    b1 = np.array([-100])\n",
    "    return ff_base(_X, W1, b1)\n",
    "\n",
    "def ff_xor(_X):\n",
    "    return ff_or([ff_and([ff_not(_X[:-1]), _X[1:]]), ff_and([_X[:-1], ff_not(_X[1:])])])\n"
   ]
  },
  {
   "cell_type": "code",
   "execution_count": 2,
   "metadata": {},
   "outputs": [
    {
     "name": "stdout",
     "output_type": "stream",
     "text": [
      "0 0 [0.]\n",
      "0 1 [1.]\n",
      "1 0 [1.]\n",
      "1 1 [0.]\n"
     ]
    }
   ],
   "source": [
    "BA = [[0, 0], [0, 1], [1, 0], [1, 1]]\n",
    "\n",
    "for ba in BA:\n",
    "    print (ba[0], ba[1], ff_xor(ba))"
   ]
  },
  {
   "cell_type": "code",
   "execution_count": null,
   "metadata": {},
   "outputs": [],
   "source": []
  }
 ],
 "metadata": {
  "kernelspec": {
   "display_name": "Python 3",
   "language": "python",
   "name": "python3"
  },
  "language_info": {
   "codemirror_mode": {
    "name": "ipython",
    "version": 3
   },
   "file_extension": ".py",
   "mimetype": "text/x-python",
   "name": "python",
   "nbconvert_exporter": "python",
   "pygments_lexer": "ipython3",
   "version": "3.7.4"
  }
 },
 "nbformat": 4,
 "nbformat_minor": 4
}
