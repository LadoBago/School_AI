{
 "cells": [
  {
   "cell_type": "code",
   "execution_count": null,
   "metadata": {},
   "outputs": [],
   "source": [
    "%load_ext autoreload\n",
    "%autoreload 2\n",
    "\n",
    "%matplotlib inline"
   ]
  },
  {
   "cell_type": "markdown",
   "metadata": {},
   "source": [
    "## Basic setup"
   ]
  },
  {
   "cell_type": "markdown",
   "metadata": {},
   "source": [
    "Create anaconda environment\n",
    "<br>\n",
    "```bash\n",
    "conda create -n ml python=3.7.4 jupyter\n",
    "```\n",
    "Install fastai library\n",
    "<br>\n",
    "```bash\n",
    "conda install -c pytorch -c fastai fastai\n",
    "```"
   ]
  },
  {
   "cell_type": "code",
   "execution_count": null,
   "metadata": {},
   "outputs": [],
   "source": [
    "!pip install https://github.com/ipython-contrib/jupyter_contrib_nbextensions/tarball/master\n",
    "!pip install jupyter_nbextensions_configurator\n",
    "!jupyter contrib nbextension install --user\n",
    "!jupyter nbextensions_configurator enable --user"
   ]
  },
  {
   "cell_type": "markdown",
   "metadata": {},
   "source": [
    "# Metric spaces"
   ]
  },
  {
   "cell_type": "markdown",
   "metadata": {},
   "source": [
    "#### Prove that:\n",
    "For every metric space (X, d):\n",
    "- For eny $\\mathcal{U} = \\{U | U$ is open in $(X, d)\\}$ holds $\\bigcup_{U \\in \\mathcal{U}} U$ is open in $(X, d)$\n",
    "- For eny two $U, V \\subset X$ open in $(X, d)$ holds: $U \\cap V$ is open in $(X, d)$\n",
    "- $X$ is open in $(X, d)$\n",
    "- $\\emptyset$ is open in $(X, d)$"
   ]
  },
  {
   "cell_type": "markdown",
   "metadata": {},
   "source": [
    "##### -Answer-\n",
    "- Let $x \\in \\mathcal{U}$, then $x \\in U_1 \\lor x \\in U_2 \\lor \\dots x \\in U_n $. Let, take any $x \\in U_k$. We know $U_k$ is open $\\iff \\exists r > 0 \\land B(x, r) \\subset U_k \\subset \\mathcal{U}$. I.e. $\\mathcal{U}$ is open.\n",
    "- Let assume $U \\cap V$ is not open $\\Rightarrow \\exists x \\in U \\cap V \\land x$ is on the border. It means $x$ is on the border either of $U$ or $V$. But it is impossible, because $U$ and $V$ are open. I.e $U \\cap V$ has no border $\\Rightarrow U \\cap V$ is open.\n",
    "\n"
   ]
  },
  {
   "cell_type": "markdown",
   "metadata": {},
   "source": [
    "#### Prove that:\n",
    "- For eny finity set $(U)_{i=1}^{n}$ of open sets in $(X, d)$, $\\bigcap_{i=1}^{n}U$ is open in $(X, d)$"
   ]
  },
  {
   "cell_type": "markdown",
   "metadata": {},
   "source": [
    "##### -Answer-\n",
    "If $\\bigcap_{i=1}^{n}U$ is not open $\\Rightarrow$ it has a border $\\Rightarrow \\exists U_k (1<=k<=n)$ which has border. But we know all $U$ sets are open. I.e. $\\bigcap_{i=1}^{n}U$ is open"
   ]
  },
  {
   "cell_type": "markdown",
   "metadata": {},
   "source": [
    "#### Prove that for set $U \\subset X$ is open if and only if for each point $x \\in U$ there exists the open neighbourhood $V$ of $x$ such that $V \\subset U$"
   ]
  },
  {
   "cell_type": "markdown",
   "metadata": {},
   "source": [
    "##### -Answer-\n",
    "If in open set $U$ exists $x \\in U$ for which does not exist any open neigbourhood, means $x$ is on the border of $U$, i.e. $U$ is closed set. I.e does not exist such $x$."
   ]
  },
  {
   "cell_type": "markdown",
   "metadata": {},
   "source": [
    "#### Prove that, closed ball is closed subset in $(X, d)$\n"
   ]
  },
  {
   "cell_type": "markdown",
   "metadata": {},
   "source": [
    "##### -Answer-\n"
   ]
  },
  {
   "cell_type": "markdown",
   "metadata": {},
   "source": [
    "#### Prove that\n",
    "For every metric space (X, d):\n",
    "- For eny $\\mathcal{F} = \\{F | F$ is closed in $(X, d)\\}$ holds $\\bigcap_{F \\in \\mathcal{F}} F$ is closed in $(X, d)$\n",
    "- For eny two $F_1, F_2 \\subset X$ closed in $(X, d)$ holds: $F_1 \\cup F_2$ is closed in $(X, d)$\n",
    "- $X$ is closed in $(X, d)$\n",
    "- $\\emptyset$ is closed in $(X, d)$"
   ]
  },
  {
   "cell_type": "markdown",
   "metadata": {},
   "source": [
    "##### -Answer-\n",
    "- Consider $X \\backslash \\bigcap_{F \\in \\mathcal{F}} F$, it is union of open sets ($\\bigcup_{F \\in \\mathcal{F}}(X \\backslash F)$), i.e. $X \\backslash \\bigcap_{F \\in \\mathcal{F}} F$ is open set, i.e. $\\bigcap_{F \\in \\mathcal{F}} F$ is closedset.\n",
    "- Consider $X \\backslash (F_1 \\cup F_2)$, it is ($X \\backslash F_1) \\cap (X \\backslash F_2)$. $X \\backslash F_1$ and $X \\backslash F_2$ are open sets. I.e. $X \\backslash (F_1 \\cup F_2)$ is open $\\Rightarrow F_1 \\cup F_2$ is closed."
   ]
  },
  {
   "cell_type": "markdown",
   "metadata": {},
   "source": [
    "#### Prove that:\n",
    "- For eny finity set $(F)_{i=1}^{n}$ of closed sets in $(X, d)$, $\\bigcup_{i=1}^{n}F$ is closed in $(X, d)$"
   ]
  },
  {
   "cell_type": "markdown",
   "metadata": {},
   "source": [
    "#### Prove that, if $F \\subset X$ is closed then $X - F$ is open in $(X, d)$ "
   ]
  },
  {
   "cell_type": "markdown",
   "metadata": {},
   "source": [
    "Suppose $F$ and $X \\backslash F$ both are closed, then they must have intersection and share the border. But we know that $F \\cap (X \\backslash F) = \\emptyset$.<br/> I.e. If $F \\subset X$ is closed then $X - F$ is open in $(X, d)$"
   ]
  },
  {
   "cell_type": "markdown",
   "metadata": {},
   "source": [
    "# Metrics in Euclidean spaces"
   ]
  },
  {
   "cell_type": "markdown",
   "metadata": {},
   "source": [
    "#### Prove that:\n",
    "- for every $u, v \\in \\mathbb{R}^{n}$: $d(u, v) \\geq 0$\n",
    "- for every $v \\in \\mathbb{R}^{n}$: $d(v, v) = 0$\n",
    "- for every $u, v \\in \\mathbb{R}^{n}$: $d(u, v) = d(v, u)$ (symmetry)\n",
    "- for every $u, v, w \\in \\mathbb{R}^{n}$: $d(u, w) \\leq d(v, u) + d(v, w)$ (triangle inequality)"
   ]
  },
  {
   "cell_type": "markdown",
   "metadata": {},
   "source": [
    "##### -Answer-\n",
    "According to the properties of general metrics:\n",
    "- $p(x,y) \\geq 0$;\n",
    "- $p(x,x) = 0$;\n",
    "- $p(x,y) = p(y,x)$;\n",
    "- $p(x,y) \\leq p(x,z) + p(z,y)$;\n",
    "In Euclidean spaces (a private case of general), if we say that $d(u, v)$ is metric, it must also have all that properties inherit, otherwise could not be called it Metric.\n"
   ]
  },
  {
   "cell_type": "markdown",
   "metadata": {},
   "source": [
    "#### Prove the same properties hold for $d(u, v) = ||u-v||_1$ ($||u-v||_1 = \\sum_{i = 1}^{n}|u_i - v_i|$)"
   ]
  },
  {
   "cell_type": "markdown",
   "metadata": {},
   "source": [
    "##### -Answer-\n",
    "- Consider $d(u, v) = \\sum_{i = 1}^{n}|u_i - v_i|$. $\\forall i \\Rightarrow$ if $u_i \\neq v_i$ then $|u_i - v_i| > 0$, if $u_i = v_i$ then $|u_i - v_i| = 0$. And also note, that $|u_i - v_i| = |v_i - u_i|$ <br/>\n",
    "I.e. $d(u, v) >= 0 \\land d(u, u) = 0 \\land d(u,v) = d(v,u)$<br/>\n",
    "- Now consider $d(u,t) + d(t,v)$ and compare it to $d(u,v)$. $d(u,t) + d(t,v) = \\sum_{i=1}^{n}(|u_i - t_i| + |t_i - v_i|)$. Note that $\\forall i$ $|u_i - t_i| + |t_i - v_i| \\geq |u_i - v_i| \\Rightarrow d(u,v) \\leq d(u,t) + d(t,v)$"
   ]
  },
  {
   "cell_type": "markdown",
   "metadata": {},
   "source": [
    "## Sequences and limits"
   ]
  },
  {
   "cell_type": "markdown",
   "metadata": {},
   "source": [
    "#### Prove that $x = \\lim_{n\\to\\infty}{x_n}$ in $(X, d)$ if and only if (iff) for every $r \\in \\mathbb{R}$ there exists $n_0 \\in \\mathbb{N}$ such that: $x_i \\in B(x, r)$ for every $i \\gt n_0$"
   ]
  },
  {
   "cell_type": "markdown",
   "metadata": {},
   "source": [
    "##### -Answer-\n",
    "if does not exist such $n_0 \\in \\mathbb{N}$, means sequence does not converge. If sequence is not convergent, it does not have limit. But we know, that limit exists. I.e. $\\forall r$ $\\exists n_0 \\in \\mathbb{N}$ "
   ]
  },
  {
   "cell_type": "markdown",
   "metadata": {},
   "source": [
    "#### Prove that if $x = \\lim_{n\\to\\infty}{x_n}$ and $x \\notin \\{-\\infty, \\infty\\}$ then $(x_i)_{i=1}^{\\infty} = (x_1, x_2, \\dots, x_n)$ is a Cauchy sequence"
   ]
  },
  {
   "cell_type": "markdown",
   "metadata": {},
   "source": [
    "##### -Answer-"
   ]
  },
  {
   "cell_type": "markdown",
   "metadata": {},
   "source": [
    "For closed set $F \\subset \\mathbb{R}^n$ and convergent sequence $(x_i)_{i=1}^{\\infty} = (x_1, x_2, \\dots, x_n)$ such that there exists $n_0 \\in \\mathbb{N}$ such that $x_i \\in F$ for each $i \\gt n_0$ then: $\\lim_{n\\to\\infty}{x_n} \\in F$"
   ]
  },
  {
   "cell_type": "markdown",
   "metadata": {},
   "source": [
    "#### Prove that if $F$ is open from previous example, statement does not hold. "
   ]
  },
  {
   "cell_type": "markdown",
   "metadata": {},
   "source": [
    "If we could write a couter example of open set, then proofed.<br/>\n",
    "For exlample, $F = \\{x:x \\in \\mathbb{R} \\land x \\in (0,1)\\}$ and sequence $x = \\{\\frac {1}{1 + i}\\}_{i=1}^\\infty$"
   ]
  },
  {
   "cell_type": "markdown",
   "metadata": {},
   "source": [
    "#### Prove that inherited metric is a metric"
   ]
  },
  {
   "cell_type": "markdown",
   "metadata": {},
   "source": [
    "## Limits of functions"
   ]
  },
  {
   "cell_type": "markdown",
   "metadata": {},
   "source": [
    "Let $f:S \\to Y$ is function between subset $S \\subset X$ of a metric space $(X, d_x)$ and metric space $(Y, d_Y)$\n",
    "- We say that the limit of function $f:(S, d_x) \\to (Y, d_Y)$ between metric spaces in some limit point $c \\in X$ of the subset $S$ is $y \\in Y $if for each open neighborhood of $y \\in V \\subset Y$ there exists the open seighborhood of $c \\in U \\subset X$ such that $f(U \\cap S) \\subset V$\n",
    "<br>\n",
    "This definition is equiualent of definition:\n",
    "<br>\n",
    "- The limit of function $f:(S, d_X) \\to (Y, d_Y)$ between metric spaces in limit point $c \\in X$ of the subset $S$ is $y \\in Y $ if for each open ball $B(x, r) \\subset Y$ there exists the ball $B(c, l) \\subset X$ such that $f(B(c, l) \\cap S) \\subset B(y, r)$\n",
    "<br>\n",
    "or\n",
    "<br>\n",
    "- The limit of function $f:(S, d_X) \\to (Y, d_Y)$ between metric spaces in limit point $c \\in X$ of subset $S$ is $y \\in Y $ if for any $r \\in \\mathbb{R}$ there exists $l \\in \\mathbb{R}$ such that for every $x \\in S$ with $d_X(x, c) < l$ implies that $d_Y(f(x), y) < r$"
   ]
  },
  {
   "cell_type": "markdown",
   "metadata": {},
   "source": [
    "#### Prove that this three definitions are equiualent for eny function between eny two metric spaces"
   ]
  },
  {
   "cell_type": "markdown",
   "metadata": {},
   "source": []
  },
  {
   "cell_type": "markdown",
   "metadata": {},
   "source": [
    "## Continuous functions "
   ]
  },
  {
   "cell_type": "markdown",
   "metadata": {},
   "source": [
    "#### Prove that function is continuous in $c$ if for eny sequence $(x_n)_{n=1}^{\\infty} \\subset X$ such that $\\lim_{n \\to \\infty}x_n = c$ we have $\\lim_{n \\to \\infty}f(x_n) = f(c)$"
   ]
  },
  {
   "cell_type": "markdown",
   "metadata": {},
   "source": [
    "#### Prove that function is continuous if for every open set $V \\subset Y$ the $f^{-1}(V)$ is open in $X$"
   ]
  },
  {
   "cell_type": "markdown",
   "metadata": {},
   "source": [
    "#### Prove that function is continuous if for every closed set $F \\subset Y$ the $f^{-1}(F)$ is open in $X$"
   ]
  },
  {
   "cell_type": "markdown",
   "metadata": {},
   "source": [
    "#### Prove that any composition of continous functions is continous"
   ]
  },
  {
   "cell_type": "markdown",
   "metadata": {},
   "source": [
    "##### -Answer-\n",
    "Take two continous functions $f : X \\rightarrow Y$ and $g : Y \\rightarrow Z$ and exists composition $g \\circ f$. We know, $\\forall \\delta$ $(\\delta > 0 \\land |y_0 - t| < \\delta)$ $\\exists \\epsilon \\land |g(y_0) - g(t)| < \\epsilon$<br/>\n",
    "$y_0$ and $t$ are domain elements of $g$ and we can raplace they with $f(x)$ and $f(k)$ correspondingly.<br/>\n",
    "I.e. $\\forall \\delta$ $(|f(x) - f(k)| < \\delta)$ $\\exists \\epsilon \\land |g(f(x)) - g(f(k))| < \\epsilon$<br/>\n",
    "I.e. $g \\circ f$ composition is continous."
   ]
  }
 ],
 "metadata": {
  "kernelspec": {
   "display_name": "Python 3",
   "language": "python",
   "name": "python3"
  },
  "language_info": {
   "codemirror_mode": {
    "name": "ipython",
    "version": 3
   },
   "file_extension": ".py",
   "mimetype": "text/x-python",
   "name": "python",
   "nbconvert_exporter": "python",
   "pygments_lexer": "ipython3",
   "version": "3.7.4"
  }
 },
 "nbformat": 4,
 "nbformat_minor": 4
}
